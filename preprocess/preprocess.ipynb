{
 "cells": [
  {
   "cell_type": "code",
   "execution_count": 23,
   "id": "1045e952",
   "metadata": {},
   "outputs": [],
   "source": [
    "import pandas as pd\n",
    "\n",
    "def remove_chiller_values(df, value_to_remove):\n",
    "    \"\"\"\n",
    "    칠러 컬럼(chiller 1, chiller 2, chiller 3)에서 특정 값을 가진 행을 제거하는 함수\n",
    "    \n",
    "    Parameters:\n",
    "    -----------\n",
    "    df : pandas.DataFrame\n",
    "        처리할 데이터프레임\n",
    "    value_to_remove : int 또는 float\n",
    "        제거할 값\n",
    "        \n",
    "    Returns:\n",
    "    --------\n",
    "    pandas.DataFrame\n",
    "        필터링된 데이터프레임\n",
    "    \"\"\"\n",
    "    # 제거 대상이 되는 행 찾기\n",
    "    rows_to_remove = (df['chiller 1'] == str(value_to_remove)) | \\\n",
    "                     (df['chiller 2'] == str(value_to_remove)) | \\\n",
    "                     (df['chiller 3'] == str(value_to_remove))\n",
    "    \n",
    "    # 제거될 행 수 확인\n",
    "    num_rows_to_remove = rows_to_remove.sum()\n",
    "    \n",
    "    print(f\"제거될 행 수: {num_rows_to_remove}\")\n",
    "    print(f\"원본 데이터 행 수: {len(df)}\")\n",
    "    print(f\"제거 후 예상 행 수: {len(df) - num_rows_to_remove}\")\n",
    "    \n",
    "    # 사용자 확인 (선택 사항)\n",
    "    confirmation = input(\"행을 제거하시겠습니까? (y/n): \")\n",
    "    \n",
    "    if confirmation.lower() == 'y':\n",
    "        # 조건에 맞는 행 제거 (논리 연산자 NOT(~)을 사용하여 반전)\n",
    "        filtered_df = df[~rows_to_remove]\n",
    "        print(f\"필터링 완료. 결과 데이터프레임 행 수: {len(filtered_df)}\")\n",
    "        return filtered_df\n",
    "    else:\n",
    "        print(\"작업이 취소되었습니다.\")\n",
    "        return df"
   ]
  },
  {
   "cell_type": "code",
   "execution_count": 28,
   "id": "ad0635a8",
   "metadata": {},
   "outputs": [
    {
     "name": "stdout",
     "output_type": "stream",
     "text": [
      "제거될 행 수: 76\n",
      "원본 데이터 행 수: 31216\n",
      "제거 후 예상 행 수: 31140\n",
      "필터링 완료. 결과 데이터프레임 행 수: 31140\n",
      "제거될 행 수: 224\n",
      "원본 데이터 행 수: 31140\n",
      "제거 후 예상 행 수: 30916\n",
      "필터링 완료. 결과 데이터프레임 행 수: 30916\n",
      "제거될 행 수: 72\n",
      "원본 데이터 행 수: 30916\n",
      "제거 후 예상 행 수: 30844\n",
      "필터링 완료. 결과 데이터프레임 행 수: 30844\n",
      "제거될 행 수: 339\n",
      "원본 데이터 행 수: 30844\n",
      "제거 후 예상 행 수: 30505\n",
      "필터링 완료. 결과 데이터프레임 행 수: 30505\n"
     ]
    }
   ],
   "source": [
    "# CSV 파일 읽기\n",
    "df = pd.read_csv('preprocess/Building_X_2nd.csv')\n",
    "\n",
    "result_df = remove_chiller_values(df, 2)\n",
    "result_df = remove_chiller_values(result_df, 4)\n",
    "result_df = remove_chiller_values(result_df, 5)\n",
    "result_df = remove_chiller_values(result_df, 8)"
   ]
  },
  {
   "cell_type": "code",
   "execution_count": 29,
   "id": "99fc7063",
   "metadata": {},
   "outputs": [],
   "source": [
    "result_df.to_csv('preprocess/Building_X_2nd_filtered.csv', index=False)"
   ]
  },
  {
   "cell_type": "code",
   "execution_count": null,
   "id": "505e5ba1",
   "metadata": {},
   "outputs": [],
   "source": []
  }
 ],
 "metadata": {
  "kernelspec": {
   "display_name": "Python 3 (ipykernel)",
   "language": "python",
   "name": "python3"
  },
  "language_info": {
   "codemirror_mode": {
    "name": "ipython",
    "version": 3
   },
   "file_extension": ".py",
   "mimetype": "text/x-python",
   "name": "python",
   "nbconvert_exporter": "python",
   "pygments_lexer": "ipython3",
   "version": "3.11.11"
  }
 },
 "nbformat": 4,
 "nbformat_minor": 5
}
